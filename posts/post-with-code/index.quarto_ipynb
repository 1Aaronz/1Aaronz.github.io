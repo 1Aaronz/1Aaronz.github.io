{
  "cells": [
    {
      "cell_type": "markdown",
      "metadata": {},
      "source": [
        "---\n",
        "title: python_basics\n",
        "author: Aaron Zaleb\n",
        "date: 2025-02-14\n",
        "categories: [Python, Coding, Blog] # tags for a blog post (e.g., python)\n",
        "image: \"image.png\"\n",
        "jupyter: python3\n",
        "toc: true\n",
        "---"
      ],
      "id": "0e736b3b"
    },
    {
      "cell_type": "markdown",
      "metadata": {},
      "source": [
        "![](image.png)\n",
        "\n",
        "Coding with python is pretty similar with coding using r. \"=\" is used to assign variables we can do various math operations using +, -, \\*, /, \\*\\* and the like. Python also uses \\# to signify comments. The main difference from R is that indexing starts at 0."
      ],
      "id": "edae8fac"
    }
  ],
  "metadata": {
    "kernelspec": {
      "display_name": "Python 3",
      "language": "python",
      "name": "python3"
    }
  },
  "nbformat": 4,
  "nbformat_minor": 5
}